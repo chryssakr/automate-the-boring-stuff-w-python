{
 "cells": [
  {
   "cell_type": "markdown",
   "metadata": {},
   "source": [
    "Getting a List from Another List with Slices"
   ]
  },
  {
   "cell_type": "code",
   "execution_count": 6,
   "metadata": {},
   "outputs": [
    {
     "name": "stdout",
     "output_type": "stream",
     "text": [
      "slice animals[0:2]: ['cat', 'elephant']\n",
      "slice animals[1:3]: ['elephant', 'rat']\n",
      "slice animals[0:-1]: ['cat', 'elephant', 'rat']\n"
     ]
    }
   ],
   "source": [
    "animals = [\"cat\", \"elephant\", \"rat\", \"bat\"]\n",
    "print(f\"slice animals[0:2]: {animals[0:2]}\")\n",
    "print(f\"slice animals[1:3]: {animals[1:3]}\")\n",
    "print(f\"slice animals[0:-1]: {animals[0:-1]}\")\n",
    "print(f\"slice animals[0:-1]: {animals[0:-1]}\")"
   ]
  },
  {
   "cell_type": "code",
   "execution_count": 1,
   "metadata": {},
   "outputs": [
    {
     "name": "stdout",
     "output_type": "stream",
     "text": [
      "Enter the name of cat 1:\n",
      "Enter the name of cat 2:\n",
      "Enter the name of cat 3:\n",
      "Enter the name of cat 4:\n",
      "Enter the name of cat 5:\n",
      "Enter the name of cat 6:\n",
      "The cat names are:\n",
      "aria jo mike ke i r\n"
     ]
    }
   ],
   "source": [
    "print(\"Enter the name of cat 1:\")\n",
    "catName1 = input()\n",
    "print(\"Enter the name of cat 2:\")\n",
    "catName2 = input()\n",
    "print(\"Enter the name of cat 3:\")\n",
    "catName3 = input()\n",
    "print(\"Enter the name of cat 4:\")\n",
    "catName4 = input()\n",
    "print(\"Enter the name of cat 5:\")\n",
    "catName5 = input()\n",
    "print(\"Enter the name of cat 6:\")\n",
    "catName6 = input()\n",
    "print(\"The cat names are:\")\n",
    "print(\n",
    "    catName1\n",
    "    + \" \"\n",
    "    + catName2\n",
    "    + \" \"\n",
    "    + catName3\n",
    "    + \" \"\n",
    "    + catName4\n",
    "    + \" \"\n",
    "    + catName5\n",
    "    + \" \"\n",
    "    + catName6\n",
    ")"
   ]
  },
  {
   "cell_type": "code",
   "execution_count": 2,
   "metadata": {},
   "outputs": [
    {
     "name": "stdout",
     "output_type": "stream",
     "text": [
      "Enter the name of cat 1 (Or enter nothing to stop.):\n",
      "Enter the name of cat 2 (Or enter nothing to stop.):\n",
      "Enter the name of cat 3 (Or enter nothing to stop.):\n",
      "Enter the name of cat 4 (Or enter nothing to stop.):\n",
      "Enter the name of cat 5 (Or enter nothing to stop.):\n",
      "Enter the name of cat 6 (Or enter nothing to stop.):\n",
      "Enter the name of cat 7 (Or enter nothing to stop.):\n",
      "Enter the name of cat 8 (Or enter nothing to stop.):\n",
      "Enter the name of cat 9 (Or enter nothing to stop.):\n",
      "Enter the name of cat 10 (Or enter nothing to stop.):\n",
      "Enter the name of cat 11 (Or enter nothing to stop.):\n",
      "Enter the name of cat 12 (Or enter nothing to stop.):\n",
      "Enter the name of cat 13 (Or enter nothing to stop.):\n",
      "The cat names are:\n",
      "  aria\n",
      "  r\n",
      "  do\n",
      "  do\n",
      "  gr\n",
      "  oe\n",
      "  fr\n",
      "  fr\n",
      "  fr\n",
      "  fr\n",
      "  fr\n",
      "   \n",
      "Enter a pet name:\n",
      "I do not have a pet named \n"
     ]
    }
   ],
   "source": [
    "catNames = []\n",
    "while True:\n",
    "    print('Enter the name of cat ' + str(len(catNames) + 1) +\n",
    "      ' (Or enter nothing to stop.):')\n",
    "    name = input()\n",
    "    if name == '':\n",
    "        break\n",
    "    catNames = catNames + [name]  # list concatenation\n",
    "print('The cat names are:')\n",
    "for name in catNames:\n",
    "    print('  ' + name)\n",
    "\n"
   ]
  },
  {
   "cell_type": "code",
   "execution_count": 3,
   "metadata": {},
   "outputs": [
    {
     "name": "stdout",
     "output_type": "stream",
     "text": [
      "Enter a pet name:\n",
      "I do not have a pet named sd\n"
     ]
    }
   ],
   "source": [
    "myPets = ['Zophie', 'Pooka', 'Fat-tail']\n",
    "print('Guess my pets names:')\n",
    "name = input()\n",
    "if name not in myPets:\n",
    "    print('I do not have a pet named ' + name)\n",
    "else:\n",
    "    print(name + ' is indeed my pet.')"
   ]
  },
  {
   "cell_type": "code",
   "execution_count": 4,
   "metadata": {},
   "outputs": [
    {
     "name": "stdout",
     "output_type": "stream",
     "text": [
      "Index 0 in supplies is: pens\n",
      "Index 1 in supplies is: staplers\n",
      "Index 2 in supplies is: flamethrowers\n",
      "Index 3 in supplies is: binders\n"
     ]
    }
   ],
   "source": [
    "supplies = ['pens', 'staplers', 'flamethrowers', 'binders']\n",
    "for index, item in enumerate(supplies):\n",
    "    print('Index ' + str(index) + ' in supplies is: ' + item)"
   ]
  },
  {
   "cell_type": "code",
   "execution_count": null,
   "metadata": {},
   "outputs": [],
   "source": [
    "import random\n",
    "messages = ['It is certain',\n",
    "    'It is decidedly so',\n",
    "    'Yes definitely',\n",
    "    'Reply hazy try again',\n",
    "    'Ask again later',\n",
    "    'Concentrate and ask again',\n",
    "    'My reply is no',\n",
    "    'Outlook not so good',\n",
    "    'Very doubtful']\n",
    "print(messages[random.randint(0, len(messages) - 1)])"
   ]
  },
  {
   "cell_type": "code",
   "execution_count": null,
   "metadata": {},
   "outputs": [],
   "source": [
    "name = 'Zophie'\n",
    "print(name[0])\n",
    "print(name[-2])\n",
    "print(name[0:4])\n",
    "print('Zo' in name)\n",
    "print('z' in name)\n",
    "print('p' not in name)\n",
    "for i in name:\n",
    "    print('* * * ' + i + ' * * *')"
   ]
  }
 ],
 "metadata": {
  "kernelspec": {
   "display_name": ".venv",
   "language": "python",
   "name": "python3"
  },
  "language_info": {
   "codemirror_mode": {
    "name": "ipython",
    "version": 3
   },
   "file_extension": ".py",
   "mimetype": "text/x-python",
   "name": "python",
   "nbconvert_exporter": "python",
   "pygments_lexer": "ipython3",
   "version": "3.12.2"
  }
 },
 "nbformat": 4,
 "nbformat_minor": 2
}
