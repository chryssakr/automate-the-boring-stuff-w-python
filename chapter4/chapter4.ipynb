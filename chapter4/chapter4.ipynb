{
 "cells": [
  {
   "cell_type": "markdown",
   "metadata": {},
   "source": [
    "## Getting a List from Another List with Slices"
   ]
  },
  {
   "cell_type": "code",
   "execution_count": 9,
   "metadata": {},
   "outputs": [
    {
     "name": "stdout",
     "output_type": "stream",
     "text": [
      "slice animals[0:2]: ['cat', 'elephant']\n",
      "slice animals[1:3]: ['elephant', 'rat']\n",
      "slice animals[0:-1]: ['cat', 'elephant', 'rat']\n",
      "slice animals[:2]: ['cat', 'elephant']\n",
      "slice animals[1:]: ['elephant', 'rat', 'bat']\n"
     ]
    }
   ],
   "source": [
    "animals = [\"cat\", \"elephant\", \"rat\", \"bat\"]\n",
    "print(f\"slice animals[0:2]: {animals[0:2]}\")\n",
    "print(f\"slice animals[1:3]: {animals[1:3]}\")\n",
    "print(f\"slice animals[0:-1]: {animals[0:-1]}\")\n",
    "print(f\"slice animals[:2]: {animals[:2]}\") #uses 0 as the start of the slice\n",
    "print(f\"slice animals[1:]: {animals[1:]}\") #uses the length of the array as the end of the slice"
   ]
  },
  {
   "cell_type": "markdown",
   "metadata": {},
   "source": [
    "## Getting a List’s Length with the len() Function"
   ]
  },
  {
   "cell_type": "code",
   "execution_count": 10,
   "metadata": {},
   "outputs": [
    {
     "name": "stdout",
     "output_type": "stream",
     "text": [
      "The length of the array animals is: 4\n"
     ]
    }
   ],
   "source": [
    "animals = [\"cat\", \"elephant\", \"rat\", \"bat\"]\n",
    "print(f\"The length of the array animals is: {len(animals)}\")"
   ]
  },
  {
   "cell_type": "markdown",
   "metadata": {},
   "source": [
    "## List Concatenation and List Replication"
   ]
  },
  {
   "cell_type": "code",
   "execution_count": 12,
   "metadata": {},
   "outputs": [
    {
     "name": "stdout",
     "output_type": "stream",
     "text": [
      "concatenated_list=[1, 2, 3, 'A', 'B', 'C']\n",
      "replicated_list=['X', 'Y', 'Z', 'X', 'Y', 'Z', 'X', 'Y', 'Z']\n"
     ]
    }
   ],
   "source": [
    "concatenated_list = [1, 2, 3] + ['A', 'B', 'C']\n",
    "print(f\"{concatenated_list=}\")\n",
    "replicated_list = ['X', 'Y', 'Z'] * 3\n",
    "print(f\"{replicated_list=}\")"
   ]
  },
  {
   "cell_type": "markdown",
   "metadata": {},
   "source": [
    "## Removing values with del"
   ]
  },
  {
   "cell_type": "code",
   "execution_count": 13,
   "metadata": {},
   "outputs": [
    {
     "name": "stdout",
     "output_type": "stream",
     "text": [
      "['elephant', 'rat', 'bat']\n"
     ]
    }
   ],
   "source": [
    "animals = [\"cat\", \"elephant\", \"rat\", \"bat\"]\n",
    "del animals[0]\n",
    "print(animals)"
   ]
  },
  {
   "cell_type": "markdown",
   "metadata": {},
   "source": [
    "## Working with lists"
   ]
  },
  {
   "cell_type": "code",
   "execution_count": 14,
   "metadata": {},
   "outputs": [
    {
     "name": "stdout",
     "output_type": "stream",
     "text": [
      "The cat names are:\n",
      "('aria', 'tootie', 'puddle', 'joe', 'cookie', 'peanut')\n"
     ]
    }
   ],
   "source": [
    "cat_name1 = input(\"Enter the name of cat 1:\")\n",
    "cat_name2 = input(\"Enter the name of cat 2:\")\n",
    "cat_name3 = input(\"Enter the name of cat 3:\")\n",
    "cat_name4 = input(\"Enter the name of cat 4:\")\n",
    "cat_name5 = input(\"Enter the name of cat 5:\")\n",
    "cat_name6 = input(\"Enter the name of cat 6:\")\n",
    "print(\"The cat names are:\")\n",
    "print(f\"{cat_name1, cat_name2, cat_name3, cat_name4, cat_name5, cat_name6}\")"
   ]
  },
  {
   "cell_type": "code",
   "execution_count": 16,
   "metadata": {},
   "outputs": [
    {
     "name": "stdout",
     "output_type": "stream",
     "text": [
      "Enter nothing to stop.\n",
      "The cat names are:\n",
      "\t aria\n",
      "\t toto\n",
      "\t puddle\n",
      "\t joe\n",
      "\t cookie\n"
     ]
    }
   ],
   "source": [
    "catNames = []\n",
    "print(\"Enter nothing to stop.\")\n",
    "while True:\n",
    "    name = input(f\"Enter the name of cat {str(len(catNames) + 1)}\")\n",
    "    if name == \"\":\n",
    "        break\n",
    "    catNames = catNames + [name]  # list concatenation\n",
    "print(\"The cat names are:\")\n",
    "for name in catNames:\n",
    "    print(f\"\\t {name}\")"
   ]
  },
  {
   "cell_type": "code",
   "execution_count": null,
   "metadata": {},
   "outputs": [
    {
     "name": "stdout",
     "output_type": "stream",
     "text": [
      "I do not have a pet named xoop\n"
     ]
    }
   ],
   "source": [
    "myPets = [\"Zophie\", \"Pooka\", \"Fat-tail\"]\n",
    "name = input(\"Guess my pets names:\")\n",
    "if name not in myPets:\n",
    "    print(f\"I do not have a pet named {name}\")\n",
    "else:\n",
    "    print(f\"{name} is indeed my pet.\")"
   ]
  },
  {
   "cell_type": "markdown",
   "metadata": {},
   "source": [
    "## Multiple assignment"
   ]
  },
  {
   "cell_type": "code",
   "execution_count": 20,
   "metadata": {},
   "outputs": [
    {
     "name": "stdout",
     "output_type": "stream",
     "text": [
      "size='fat', color='gray', disposition='loud'\n"
     ]
    }
   ],
   "source": [
    "cat = ['fat', 'gray', 'loud']\n",
    "size, color, disposition = cat\n",
    "print(f\"{size=}, {color=}, {disposition=}\")"
   ]
  },
  {
   "cell_type": "markdown",
   "metadata": {},
   "source": [
    "## enumerate() Function\n",
    "Returns two values, the index and the item"
   ]
  },
  {
   "cell_type": "code",
   "execution_count": 19,
   "metadata": {},
   "outputs": [
    {
     "name": "stdout",
     "output_type": "stream",
     "text": [
      "Index 0 in supplies is: pens\n",
      "Index 1 in supplies is: staplers\n",
      "Index 2 in supplies is: flamethrowers\n",
      "Index 3 in supplies is: binders\n"
     ]
    }
   ],
   "source": [
    "supplies = [\"pens\", \"staplers\", \"flamethrowers\", \"binders\"]\n",
    "for index, item in enumerate(supplies):\n",
    "    print(f\"Index {str(index)} in supplies is: {item}\")"
   ]
  },
  {
   "cell_type": "markdown",
   "metadata": {},
   "source": [
    "## random.choice() and random.shuffle()\n",
    "\n",
    "They accept lists for arguments."
   ]
  },
  {
   "cell_type": "code",
   "execution_count": 35,
   "metadata": {},
   "outputs": [
    {
     "name": "stdout",
     "output_type": "stream",
     "text": [
      "It is certain\n",
      "['It is decidedly so', 'Reply hazy try again', 'It is certain', 'Concentrate and ask again', 'Outlook not so good', 'Ask again later', 'Very doubtful', 'Yes definitely', 'My reply is no']\n"
     ]
    }
   ],
   "source": [
    "import random\n",
    "messages = ['It is certain',\n",
    "    'It is decidedly so',\n",
    "    'Yes definitely',\n",
    "    'Reply hazy try again',\n",
    "    'Ask again later',\n",
    "    'Concentrate and ask again',\n",
    "    'My reply is no',\n",
    "    'Outlook not so good',\n",
    "    'Very doubtful']\n",
    "# print(messages[random.randint(0, len(messages) - 1)])\n",
    "print(random.choice(messages))\n",
    "random.shuffle(messages) # returns nth, mutates the list\n",
    "print(messages)"
   ]
  },
  {
   "cell_type": "markdown",
   "metadata": {},
   "source": [
    "## Methods\n",
    "They are called **on** a value e.g. `spam.index('hello')` in contrast to a function that would be `len(spam)`.\n",
    "\n",
    "Each data type has its own set of methods.\n",
    "\n",
    "Below are the index(), append(), insert(), remove(), sort(), reverse() methods of the List data type."
   ]
  },
  {
   "cell_type": "code",
   "execution_count": 49,
   "metadata": {},
   "outputs": [
    {
     "name": "stdout",
     "output_type": "stream",
     "text": [
      "0\n",
      "1\n"
     ]
    }
   ],
   "source": [
    "greetings = [\"hello\", \"hi\", \"howdy\", \"heyas\"]\n",
    "print(greetings.index(\"hello\"))\n",
    "random.shuffle(greetings)\n",
    "print(greetings.index(\"hello\"))\n",
    "# if there are duplicates, it returns the index of the first appearance"
   ]
  },
  {
   "cell_type": "markdown",
   "metadata": {},
   "source": [
    "`append()`  &nbsp; &nbsp; adds to the end of the list\n",
    "\n",
    "`insert()` &nbsp; &nbsp; adds to the position of the given index\n",
    "\n",
    "`remove()`  &nbsp; &nbsp; removes the item from the list. We use `remove()` when we know the value we want to remove and `del` when we know the index of the value we want to remove.\n",
    "\n",
    "they both return nothing, they mutate the list"
   ]
  },
  {
   "cell_type": "code",
   "execution_count": 50,
   "metadata": {},
   "outputs": [
    {
     "name": "stdout",
     "output_type": "stream",
     "text": [
      "appended hamster: ['cat', 'dog', 'guinea pig', 'hamster']\n",
      "inserted fish: ['cat', 'fish', 'dog', 'guinea pig', 'hamster']\n",
      "removed fish: ['cat', 'dog', 'guinea pig', 'hamster']\n"
     ]
    }
   ],
   "source": [
    "pets = [\"cat\", \"dog\", \"guinea pig\"]\n",
    "pets.append(\"hamster\")\n",
    "print(f\"appended hamster: {pets}\")\n",
    "pets.insert(1, \"fish\")\n",
    "print(f\"inserted fish: {pets}\")\n",
    "pets.remove(\"fish\")\n",
    "print(f\"removed fish: {pets}\")"
   ]
  },
  {
   "cell_type": "markdown",
   "metadata": {},
   "source": [
    "`sort()`  &nbsp; &nbsp; sorts the list, can't be used for lists that contain items of different types. It uses ASCIIbetical order -> the uppercase letters come before lowercase letters."
   ]
  },
  {
   "cell_type": "code",
   "execution_count": 57,
   "metadata": {},
   "outputs": [
    {
     "name": "stdout",
     "output_type": "stream",
     "text": [
      "values=[2, 5, 3.14, 1, -7]\n",
      "sorted values=[-7, 1, 2, 3.14, 5]\n",
      "animals=['ants', 'cats', 'dogs', 'badgers', 'elephants']\n",
      "sorted animals=['ants', 'badgers', 'cats', 'dogs', 'elephants']\n",
      "people_and_pets=['Alice', 'ants', 'Bob', 'badgers', 'Carol', 'cats']\n",
      "sorted with sort(): ['Alice', 'Bob', 'Carol', 'ants', 'badgers', 'cats']\n",
      "sorted with regular alphabetical order: ['Alice', 'ants', 'badgers', 'Bob', 'Carol', 'cats']\n"
     ]
    }
   ],
   "source": [
    "values = [2, 5, 3.14, 1, -7]\n",
    "print(f\"{values=}\")\n",
    "values.sort()\n",
    "print(f\"sorted values={values}\")\n",
    "animals = ['ants', 'cats', 'dogs', 'badgers', 'elephants']\n",
    "print(f\"{animals=}\")\n",
    "animals.sort()\n",
    "print(f\"sorted animals={animals}\")\n",
    "people_and_pets = ['badgers', 'ants', 'Carol', 'Bob', 'cats', 'Alice']\n",
    "print(f\"{people_and_pets=}\")\n",
    "people_and_pets.sort()\n",
    "print(f\"sorted with sort(): {people_and_pets}\")\n",
    "people_and_pets.sort(key=str.lower)\n",
    "print(f\"sorted with regular alphabetical order: {people_and_pets}\")\n",
    "\n"
   ]
  },
  {
   "cell_type": "code",
   "execution_count": 52,
   "metadata": {},
   "outputs": [
    {
     "name": "stdout",
     "output_type": "stream",
     "text": [
      "Z\n",
      "i\n",
      "Zoph\n",
      "True\n",
      "False\n",
      "False\n",
      "* * * Z * * *\n",
      "* * * o * * *\n",
      "* * * p * * *\n",
      "* * * h * * *\n",
      "* * * i * * *\n",
      "* * * e * * *\n"
     ]
    }
   ],
   "source": [
    "name = 'Zophie'\n",
    "print(name[0])\n",
    "print(name[-2])\n",
    "print(name[0:4])\n",
    "print('Zo' in name)\n",
    "print('z' in name)\n",
    "print('p' not in name)\n",
    "for i in name:\n",
    "    print('* * * ' + i + ' * * *')"
   ]
  }
 ],
 "metadata": {
  "kernelspec": {
   "display_name": ".venv",
   "language": "python",
   "name": "python3"
  },
  "language_info": {
   "codemirror_mode": {
    "name": "ipython",
    "version": 3
   },
   "file_extension": ".py",
   "mimetype": "text/x-python",
   "name": "python",
   "nbconvert_exporter": "python",
   "pygments_lexer": "ipython3",
   "version": "3.12.2"
  }
 },
 "nbformat": 4,
 "nbformat_minor": 2
}
